{
 "cells": [
  {
   "cell_type": "code",
   "execution_count": null,
   "id": "b6a9b022",
   "metadata": {},
   "outputs": [],
   "source": [
    "import pandas as pd\n",
    "import os\n",
    "from collections import Counter\n",
    "import matplotlib.pyplot as plt\n",
    "from PIL import Image\n",
    "os.chdir('..')"
   ]
  },
  {
   "cell_type": "markdown",
   "id": "63c1ae7c",
   "metadata": {},
   "source": [
    "# Dataset info"
   ]
  },
  {
   "cell_type": "code",
   "execution_count": null,
   "id": "0c69fe1f",
   "metadata": {},
   "outputs": [],
   "source": [
    "file_path = 'Dataset/public/data.json'\n",
    "\n",
    "df = pd.read_json(file_path)\n",
    "\n",
    "print(df.info())"
   ]
  },
  {
   "cell_type": "code",
   "execution_count": null,
   "id": "295a3e50",
   "metadata": {},
   "outputs": [],
   "source": [
    "print(df.head(5))"
   ]
  },
  {
   "cell_type": "markdown",
   "id": "9de3a708",
   "metadata": {},
   "source": [
    "Check null value"
   ]
  },
  {
   "cell_type": "code",
   "execution_count": null,
   "id": "5bf008b1",
   "metadata": {},
   "outputs": [],
   "source": [
    "print(df.isnull().sum())"
   ]
  },
  {
   "cell_type": "markdown",
   "id": "ce59bc4e",
   "metadata": {},
   "source": [
    "Check for duplicates in the dataset"
   ]
  },
  {
   "cell_type": "code",
   "execution_count": null,
   "id": "d057bb17",
   "metadata": {},
   "outputs": [],
   "source": [
    "print(df.duplicated().sum())"
   ]
  },
  {
   "cell_type": "code",
   "execution_count": null,
   "id": "21e1c7c0",
   "metadata": {},
   "outputs": [],
   "source": [
    "df.describe()"
   ]
  },
  {
   "cell_type": "code",
   "execution_count": null,
   "id": "127b3bac",
   "metadata": {},
   "outputs": [],
   "source": [
    "print(df.columns.to_list())"
   ]
  },
  {
   "cell_type": "code",
   "execution_count": null,
   "id": "17e77b95",
   "metadata": {},
   "outputs": [],
   "source": [
    "print(df['Classification'].unique())\n",
    "print(len(df['Classification'].unique()))"
   ]
  },
  {
   "cell_type": "markdown",
   "id": "3c17e8cf",
   "metadata": {},
   "source": [
    "There are 7 types in the classification column."
   ]
  },
  {
   "cell_type": "code",
   "execution_count": null,
   "id": "210c145e",
   "metadata": {},
   "outputs": [],
   "source": [
    "print(df['Classification'].value_counts())\n",
    "df['Classification'].value_counts().plot(kind='bar')"
   ]
  },
  {
   "cell_type": "code",
   "execution_count": null,
   "id": "db677148",
   "metadata": {},
   "outputs": [],
   "source": [
    "print(df['Type'].unique())\n",
    "print(len(df['Type'].unique()))"
   ]
  },
  {
   "cell_type": "markdown",
   "id": "b94efc36",
   "metadata": {},
   "source": [
    "Based on the dataset usage guideline, the is 2 type condition, normal and abnormal, but the dataset only has 566 normal type and 3 empty type (?).\n",
    "\n",
    "Based on the Description , I guess they are abnornal type. So all of the data is abnormal type, no normal type (?)"
   ]
  },
  {
   "cell_type": "code",
   "execution_count": null,
   "id": "0107f97c",
   "metadata": {},
   "outputs": [],
   "source": [
    "df.loc[df['Type'] == '', 'Type'] = 'abnormal'\n",
    "print(df['Type'].unique())\n",
    "print(len(df['Type'].unique()))"
   ]
  },
  {
   "cell_type": "markdown",
   "id": "33d9a754",
   "metadata": {},
   "source": [
    "# Visualization"
   ]
  },
  {
   "cell_type": "markdown",
   "id": "a9ed364c",
   "metadata": {},
   "source": [
    "Show 9 images randomly"
   ]
  },
  {
   "cell_type": "code",
   "execution_count": null,
   "id": "d9a0f236",
   "metadata": {},
   "outputs": [],
   "source": [
    "sample_df = df.sample(9)\n",
    "plt.figure(figsize=(12, 12))\n",
    "for idx, (_, row) in enumerate(sample_df.iterrows()):\n",
    "  img_path = os.path.join('Dataset/public/images', row['Path'])\n",
    "  img = Image.open(img_path)\n",
    "  plt.subplot(3, 3, idx + 1)\n",
    "  plt.imshow(img)\n",
    "  plt.title(row['Classification'])\n",
    "  desc = f\"Type: {row['Type']}\\n\" + str(row['Description']).replace('\\r\\n', '\\n')\n",
    "  desc_en = str(row['DescriptionEN']).replace('\\r\\n', '\\n')\n",
    "  plt.text(0.5, -0.1, f\"{desc}\\n{desc_en}\", \n",
    "      fontsize=9, color='black', ha='center', va='top', transform=plt.gca().transAxes, wrap=True)\n",
    "  plt.axis('off')\n",
    "plt.tight_layout()\n",
    "plt.show()"
   ]
  },
  {
   "cell_type": "markdown",
   "id": "cbe36c44",
   "metadata": {},
   "source": [
    "Ear left and ear right"
   ]
  },
  {
   "cell_type": "code",
   "execution_count": null,
   "id": "ebe5cf4f",
   "metadata": {},
   "outputs": [],
   "source": [
    "def compare_2_type_of_img(df: pd.DataFrame, type_1:str, type_2:str, num_of_samples: int = 4):\n",
    "\n",
    "  ear_left_imgs = df[df['Classification'] == type_1]['Path'].head(num_of_samples).tolist()\n",
    "  ear_right_imgs = df[df['Classification'] == type_2]['Path'].head(num_of_samples).tolist()\n",
    "\n",
    "  fig, axes = plt.subplots(2, 4, figsize=(16, 8))\n",
    "\n",
    "  for i, img_name in enumerate(ear_left_imgs):\n",
    "    img_path = os.path.join('Dataset/public/images', img_name)\n",
    "    img = Image.open(img_path)\n",
    "    axes[0, i].imshow(img)\n",
    "    axes[0, i].set_title(type_1)\n",
    "    axes[0, i].axis('off')\n",
    "\n",
    "  for i, img_name in enumerate(ear_right_imgs):\n",
    "    img_path = os.path.join('Dataset/public/images', img_name)\n",
    "    img = Image.open(img_path)\n",
    "    axes[1, i].imshow(img)\n",
    "    axes[1, i].set_title(type_2)\n",
    "    axes[1, i].axis('off')\n",
    "\n",
    "  plt.tight_layout()\n",
    "  plt.show()\n",
    "\n",
    "compare_2_type_of_img(df, 'ear-left', 'ear-right')"
   ]
  },
  {
   "cell_type": "markdown",
   "id": "046cddfc",
   "metadata": {},
   "source": [
    "Nose left and nose right"
   ]
  },
  {
   "cell_type": "code",
   "execution_count": null,
   "id": "73837d78",
   "metadata": {},
   "outputs": [],
   "source": [
    "compare_2_type_of_img(df, 'nose-left', 'nose-right')"
   ]
  },
  {
   "cell_type": "markdown",
   "id": "1dcde3c2",
   "metadata": {},
   "source": [
    "vc-closed ans vs-open"
   ]
  },
  {
   "cell_type": "code",
   "execution_count": null,
   "id": "b8c1331d",
   "metadata": {},
   "outputs": [],
   "source": [
    "compare_2_type_of_img(df, 'vc-open', 'vc-closed')"
   ]
  },
  {
   "cell_type": "markdown",
   "id": "59746d7d",
   "metadata": {},
   "source": [
    "# Important: There is a miss match between the actual path and the path in `data.json`"
   ]
  },
  {
   "cell_type": "markdown",
   "id": "c05efeda",
   "metadata": {},
   "source": [
    "The actual has postfix `_ImageXX.png` but the path in the **data.json** has postfix `_imageXX.png`. We need to convert it before tranning."
   ]
  },
  {
   "cell_type": "code",
   "execution_count": null,
   "id": "b71182c8",
   "metadata": {},
   "outputs": [],
   "source": [
    "df[\"Path\"] = df[\"Path\"].str.replace(\"_image\", \"_Image\", regex=False)"
   ]
  },
  {
   "cell_type": "markdown",
   "id": "e827b6bf",
   "metadata": {},
   "source": [
    "# Save cleaned dataset"
   ]
  },
  {
   "cell_type": "code",
   "execution_count": null,
   "id": "96912f3c",
   "metadata": {},
   "outputs": [],
   "source": [
    "df.to_csv('Dataset/cleaned_data.csv', index=False)"
   ]
  },
  {
   "cell_type": "markdown",
   "id": "9914e23d",
   "metadata": {},
   "source": [
    "Validate the output CSV"
   ]
  },
  {
   "cell_type": "code",
   "execution_count": null,
   "id": "c59751de",
   "metadata": {},
   "outputs": [],
   "source": [
    "df = pd.read_csv('Dataset/cleaned_data.csv')\n",
    "df"
   ]
  },
  {
   "cell_type": "code",
   "execution_count": null,
   "id": "c37f59cd",
   "metadata": {},
   "outputs": [],
   "source": [
    "sizes = []\n",
    "for img_name in df['Path']:\n",
    "  img_path = os.path.join('Dataset/public/images', img_name)\n",
    "  with Image.open(img_path) as img:\n",
    "    sizes.append(img.size) \n",
    "\n",
    "size_counts = Counter(sizes)\n",
    "print(size_counts)"
   ]
  },
  {
   "cell_type": "markdown",
   "id": "f8b9ec08",
   "metadata": {},
   "source": [
    "There are 566 images with a size of 640 $\\times$ 480"
   ]
  },
  {
   "cell_type": "code",
   "execution_count": null,
   "id": "6e27f636",
   "metadata": {},
   "outputs": [],
   "source": []
  }
 ],
 "metadata": {
  "kernelspec": {
   "display_name": "Python 3",
   "language": "python",
   "name": "python3"
  },
  "language_info": {
   "codemirror_mode": {
    "name": "ipython",
    "version": 3
   },
   "file_extension": ".py",
   "mimetype": "text/x-python",
   "name": "python",
   "nbconvert_exporter": "python",
   "pygments_lexer": "ipython3",
   "version": "3.12.4"
  }
 },
 "nbformat": 4,
 "nbformat_minor": 5
}
